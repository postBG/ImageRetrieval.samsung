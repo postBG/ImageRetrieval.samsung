{
 "cells": [
  {
   "cell_type": "markdown",
   "id": "773afacd",
   "metadata": {},
   "source": [
    "# Towards Content-based Image Retrieval Methods"
   ]
  },
  {
   "cell_type": "markdown",
   "id": "a691d3b9",
   "metadata": {},
   "source": [
    "## Boilerplate for Colab "
   ]
  },
  {
   "cell_type": "code",
   "execution_count": null,
   "id": "71ec5a39",
   "metadata": {},
   "outputs": [],
   "source": [
    "from google.colab import drive\n",
    "drive.mount('/content/gdrive')"
   ]
  },
  {
   "cell_type": "code",
   "execution_count": null,
   "id": "fb0483f7",
   "metadata": {},
   "outputs": [],
   "source": [
    "% cd gdrive/MyDrive"
   ]
  },
  {
   "cell_type": "code",
   "execution_count": null,
   "id": "6426d8b9",
   "metadata": {},
   "outputs": [],
   "source": [
    "! git clone https://github.com/postBG/ImageRetrieval.samsung"
   ]
  },
  {
   "cell_type": "code",
   "execution_count": null,
   "id": "9e1f3c92",
   "metadata": {},
   "outputs": [],
   "source": [
    "% cd ImageRetrieval.samsung/"
   ]
  },
  {
   "cell_type": "code",
   "execution_count": null,
   "id": "179f3fe3",
   "metadata": {},
   "outputs": [],
   "source": [
    "!pip install ipython-unittest"
   ]
  },
  {
   "cell_type": "markdown",
   "id": "e0feda05",
   "metadata": {},
   "source": [
    "## Let's begin! "
   ]
  },
  {
   "cell_type": "code",
   "execution_count": 1,
   "id": "8eb38d01",
   "metadata": {},
   "outputs": [
    {
     "name": "stdout",
     "output_type": "stream",
     "text": [
      "The autoreload extension is already loaded. To reload it, use:\n",
      "  %reload_ext autoreload\n"
     ]
    }
   ],
   "source": [
    "%matplotlib inline\n",
    "%load_ext autoreload\n",
    "%autoreload 2\n",
    "%load_ext ipython_unittest"
   ]
  },
  {
   "cell_type": "code",
   "execution_count": 2,
   "id": "115a99e3",
   "metadata": {},
   "outputs": [],
   "source": [
    "import os, sys\n",
    "import matplotlib.pyplot as plt\n",
    "import unittest\n",
    "import numpy as np\n",
    "import utils\n",
    "import torch\n",
    "import torch.nn.functional as F\n",
    "import torch.nn as nn\n",
    "from tqdm.notebook import tqdm\n",
    "from torchvision import datasets, transforms\n",
    "from utils import ImageHelper"
   ]
  },
  {
   "cell_type": "markdown",
   "id": "9812419c",
   "metadata": {},
   "source": [
    "## Dataset: fashionMNIST"
   ]
  },
  {
   "cell_type": "markdown",
   "id": "b214ec61",
   "metadata": {},
   "source": [
    "### Create Dataset"
   ]
  },
  {
   "cell_type": "code",
   "execution_count": 3,
   "id": "eda52ac3",
   "metadata": {},
   "outputs": [],
   "source": [
    "img_size = 32\n",
    "mean = (0.5,)\n",
    "std = (0.5,)\n",
    "\n",
    "# Define a transform to normalize the data\n",
    "transform = transforms.Compose([transforms.Resize((img_size, img_size)), \n",
    "                                transforms.ToTensor(),\n",
    "                                transforms.Normalize(mean=mean, std=std)])\n",
    "image_helper = ImageHelper(mean, std)"
   ]
  },
  {
   "cell_type": "code",
   "execution_count": 4,
   "id": "43976936",
   "metadata": {},
   "outputs": [],
   "source": [
    "from datasets import FashionMNIST\n",
    "\n",
    "batch_size = 256\n",
    "\n",
    "trainset = FashionMNIST('./data', download=True, split='train', transform=transform)\n",
    "valset = FashionMNIST('./data', download=True, split='val', transform=transform)\n",
    "testset = FashionMNIST('./data', download=True, split='test', transform=transform)\n",
    "\n",
    "idx_to_class = trainset.idx_to_class\n",
    "\n",
    "trainloader = torch.utils.data.DataLoader(trainset, batch_size=batch_size, shuffle=True)\n",
    "valloader = torch.utils.data.DataLoader(valset, batch_size=batch_size, shuffle=False)\n",
    "testloader = torch.utils.data.DataLoader(testset, batch_size=batch_size, shuffle=False)"
   ]
  },
  {
   "cell_type": "markdown",
   "id": "fde9cdd5",
   "metadata": {},
   "source": [
    "### Take a Look"
   ]
  },
  {
   "cell_type": "code",
   "execution_count": 5,
   "id": "87082f7c",
   "metadata": {},
   "outputs": [
    {
     "name": "stdout",
     "output_type": "stream",
     "text": [
      "['T-shirt/top', 'Trouser', 'Pullover', 'Dress', 'Coat', 'Sandal', 'Shirt', 'Sneaker', 'Bag', 'Ankle boot']\n",
      "{0: 'T-shirt/top', 1: 'Trouser', 2: 'Pullover', 3: 'Dress', 4: 'Coat', 5: 'Sandal', 6: 'Shirt', 7: 'Sneaker', 8: 'Bag', 9: 'Ankle boot'}\n",
      "train dataset size: 54000\n",
      "validation dataset size: 6000\n",
      "test dataset size: 10000\n"
     ]
    }
   ],
   "source": [
    "print(trainset.classes)\n",
    "print(idx_to_class)\n",
    "print(f'train dataset size: {len(trainset)}')\n",
    "print(f'validation dataset size: {len(valset)}')\n",
    "print(f'test dataset size: {len(testset)}')"
   ]
  },
  {
   "cell_type": "code",
   "execution_count": 6,
   "id": "5b8c2f72",
   "metadata": {},
   "outputs": [
    {
     "name": "stdout",
     "output_type": "stream",
     "text": [
      "label: Dress\n"
     ]
    },
    {
     "data": {
      "image/png": "[encoded data removed]",
      "text/plain": [
       "<Figure size 432x288 with 1 Axes>"
      ]
     },
     "metadata": {
      "needs_background": "light"
     },
     "output_type": "display_data"
    }
   ],
   "source": [
    "img, label, idx = trainset[3]\n",
    "image_helper.show_img(img)\n",
    "print(f'label: {trainset.idx_to_class[label]}')"
   ]
  },
  {
   "cell_type": "markdown",
   "id": "9a3edd7d",
   "metadata": {},
   "source": [
    "## Database & kNN Retrieval"
   ]
  },
  {
   "cell_type": "code",
   "execution_count": 7,
   "id": "e21cc3ec",
   "metadata": {},
   "outputs": [],
   "source": [
    "class Database(object):\n",
    "    def __init__(self, dataloader, feature_extractor):\n",
    "        self.dataloader = dataloader\n",
    "        self.dataset = dataloader.dataset\n",
    "        self.feature_extractor = feature_extractor\n",
    "        self.images_indices, self.extracted_features, self.targets = self.extract_features_to_construct_database()\n",
    "\n",
    "    @torch.no_grad()\n",
    "    def extract_features_to_construct_database(self):\n",
    "        self.feature_extractor.eval()\n",
    "        all_indices = []\n",
    "        all_features = []\n",
    "        all_targets = []\n",
    "        for xs, ys, idxs in tqdm(self.dataloader):\n",
    "            features = self.feature_extractor(xs)\n",
    "            features = features.view(features.size(0), -1)\n",
    "            all_features.extend(features)\n",
    "            \n",
    "            all_indices.extend(idxs)\n",
    "            all_targets.extend(ys)\n",
    "        return torch.stack(all_indices), torch.stack(all_features), torch.stack(all_targets)\n",
    "    \n",
    "    def get_image_and_target(self, idx):\n",
    "        return self.dataset[idx]"
   ]
  },
  {
   "cell_type": "markdown",
   "id": "960b674b",
   "metadata": {},
   "source": [
    "### Practice 1: Implement k-nearest neighbor algorithm\n",
    "\n",
    "We will use the dot-product between two vectors as the distance."
   ]
  },
  {
   "cell_type": "code",
   "execution_count": 8,
   "id": "aaf3976d",
   "metadata": {},
   "outputs": [],
   "source": [
    "def kNN_search(query: torch.Tensor, database: Database, k=10):\n",
    "    # query: batch_size * feature_size\n",
    "    # database.extracted_features: database_size * feature_size\n",
    "    distance_matrix = query.mm(database.extracted_features.t())  # distance_matrix's shape should be batch_size * database_size\n",
    "    top_scores, most_similar_indices = distance_matrix.topk(k)\n",
    "    return top_scores, most_similar_indices"
   ]
  },
  {
   "cell_type": "code",
   "execution_count": 9,
   "id": "c7f24144",
   "metadata": {},
   "outputs": [
    {
     "data": {
      "application/unittest.status+json": {
       "color": "yellow",
       "message": "",
       "previous": 0
      },
      "text/plain": []
     },
     "metadata": {},
     "output_type": "display_data"
    },
    {
     "name": "stdout",
     "output_type": "stream",
     "text": [
      "torch.Size([5, 10])\n",
      "torch.Size([5, 5])\n"
     ]
    },
    {
     "data": {
      "application/unittest.status+json": {
       "color": "lightgreen",
       "message": "..\n----------------------------------------------------------------------\nRan 2 tests in 0.005s\n\nOK\n",
       "previous": 0
      },
      "text/plain": [
       "Success"
      ]
     },
     "metadata": {},
     "output_type": "display_data"
    },
    {
     "name": "stdout",
     "output_type": "stream",
     "text": [
      "..\n",
      "----------------------------------------------------------------------\n",
      "Ran 2 tests in 0.005s\n",
      "\n",
      "OK\n"
     ]
    },
    {
     "data": {
      "text/plain": [
       "<unittest.runner.TextTestResult run=2 errors=0 failures=0>"
      ]
     },
     "execution_count": 9,
     "metadata": {},
     "output_type": "execute_result"
    }
   ],
   "source": [
    "%%unittest_main\n",
    "from vector_search import kNN_search as solution_kNN_search\n",
    "\n",
    "def generate_random_tensor(rng, size):\n",
    "    return torch.tensor(rng.random(size=size))\n",
    "\n",
    "class DummyDatabase(object):\n",
    "    def __init__(self, database_size, feature_size):\n",
    "        rng = np.random.default_rng(10)\n",
    "        self.extracted_features = generate_random_tensor(rng, size=(database_size, feature_size))\n",
    "\n",
    "class TestkNN(unittest.TestCase):\n",
    "    def setUp(self):\n",
    "        self.batch_size = 5\n",
    "        self.feature_size = 32\n",
    "        self.database_size = 128\n",
    "        self.dummy_database = DummyDatabase(self.database_size, self.feature_size)\n",
    "    \n",
    "    def test_kNN_search_k10(self):\n",
    "        random_seed = 0\n",
    "        rng = np.random.default_rng(random_seed)\n",
    "        queries = generate_random_tensor(rng, size=(self.batch_size, self.feature_size))\n",
    "        top_scores, retrieved_indices = kNN_search(queries, self.dummy_database, k=10)\n",
    "        \n",
    "        sol_top_scores, sol_retrieved_indices = solution_kNN_search(queries, self.dummy_database, k=10)\n",
    "        print(retrieved_indices.size())\n",
    "        self.assertTrue(top_scores.equal(sol_top_scores))\n",
    "        self.assertTrue(retrieved_indices.equal(sol_retrieved_indices))\n",
    "        \n",
    "    def test_kNN_search_k5(self):\n",
    "        random_seed = 1\n",
    "        rng = np.random.default_rng(random_seed)\n",
    "        queries = generate_random_tensor(rng, size=(self.batch_size, self.feature_size))\n",
    "        top_scores, retrieved_indices = kNN_search(queries, self.dummy_database, k=5)\n",
    "        \n",
    "        sol_top_scores, sol_retrieved_indices = solution_kNN_search(queries, self.dummy_database, k=5)\n",
    "        print(retrieved_indices.size())\n",
    "        self.assertTrue(top_scores.equal(sol_top_scores))\n",
    "        self.assertTrue(retrieved_indices.equal(sol_retrieved_indices))"
   ]
  },
  {
   "cell_type": "markdown",
   "id": "26d10f8a",
   "metadata": {},
   "source": [
    "### Practice 2: Implement a Simple Flatter"
   ]
  },
  {
   "cell_type": "code",
   "execution_count": 10,
   "id": "5fbd8185",
   "metadata": {},
   "outputs": [],
   "source": [
    "class SimpleFlatter(nn.Module):\n",
    "    def forward(self, x):\n",
    "        # x: batch_size * num_channel * img_size * img_size\n",
    "        batch_size = x.size(0)\n",
    "        flatten = x.view(batch_size, -1)  # flatten's shape should be batch_size * (num_channel * img_size * img_size)\n",
    "        return flatten\n",
    "    \n",
    "    def eval(self):\n",
    "        pass"
   ]
  },
  {
   "cell_type": "code",
   "execution_count": 11,
   "id": "14ef12da",
   "metadata": {},
   "outputs": [
    {
     "data": {
      "application/unittest.status+json": {
       "color": "yellow",
       "message": "",
       "previous": 0
      },
      "text/plain": []
     },
     "metadata": {},
     "output_type": "display_data"
    },
    {
     "data": {
      "application/unittest.status+json": {
       "color": "lightgreen",
       "message": ".\n----------------------------------------------------------------------\nRan 1 test in 0.001s\n\nOK\n",
       "previous": 0
      },
      "text/plain": [
       "Success"
      ]
     },
     "metadata": {},
     "output_type": "display_data"
    },
    {
     "name": "stdout",
     "output_type": "stream",
     "text": [
      ".\n",
      "----------------------------------------------------------------------\n",
      "Ran 1 test in 0.001s\n",
      "\n",
      "OK\n"
     ]
    },
    {
     "data": {
      "text/plain": [
       "<unittest.runner.TextTestResult run=1 errors=0 failures=0>"
      ]
     },
     "execution_count": 11,
     "metadata": {},
     "output_type": "execute_result"
    }
   ],
   "source": [
    "%%unittest_main\n",
    "from models import SimpleFlatter as SimpleFlatterSolution\n",
    "\n",
    "\n",
    "class TestSimpleFlatter(unittest.TestCase):\n",
    "    def setUp(self):\n",
    "        self.batch_size = 5\n",
    "        self.num_channel = 3  # RGB\n",
    "        self.img_size = 32\n",
    "    \n",
    "    def test_simple_flatter(self):\n",
    "        random_seed = 0\n",
    "        rng = np.random.default_rng(random_seed)\n",
    "        x = generate_random_tensor(rng, size=(self.batch_size, self.num_channel, self.img_size, self.img_size))\n",
    "        model = SimpleFlatter()\n",
    "        out = model(x)\n",
    "        \n",
    "        self.assertTupleEqual((self.batch_size, self.num_channel * self.img_size * self.img_size), out.size())\n",
    "        self.assertTrue(out.equal(x.view(self.batch_size, -1)))"
   ]
  },
  {
   "cell_type": "markdown",
   "id": "a4744176",
   "metadata": {},
   "source": [
    "## Your First Retrieval"
   ]
  },
  {
   "cell_type": "markdown",
   "id": "9e56a86f",
   "metadata": {},
   "source": [
    "### Create Your Database using Flatter and Database"
   ]
  },
  {
   "cell_type": "code",
   "execution_count": 12,
   "id": "e85ef29e",
   "metadata": {},
   "outputs": [
    {
     "data": {
      "application/vnd.jupyter.widget-view+json": {
       "model_id": "f3f73fec394643f69950a5980ccd4997",
       "version_major": 2,
       "version_minor": 0
      },
      "text/plain": [
       "HBox(children=(FloatProgress(value=0.0, max=40.0), HTML(value='')))"
      ]
     },
     "metadata": {},
     "output_type": "display_data"
    },
    {
     "name": "stdout",
     "output_type": "stream",
     "text": [
      "\n"
     ]
    }
   ],
   "source": [
    "flatter = SimpleFlatter()\n",
    "database = Database(testloader, flatter)"
   ]
  },
  {
   "cell_type": "code",
   "execution_count": 13,
   "id": "09ac4447",
   "metadata": {},
   "outputs": [
    {
     "name": "stdout",
     "output_type": "stream",
     "text": [
      "This is you query image!\n",
      "T-shirt/top: 0\n"
     ]
    },
    {
     "data": {
      "image/png": "[encoded data removed]",
      "text/plain": [
       "<Figure size 432x288 with 1 Axes>"
      ]
     },
     "metadata": {
      "needs_background": "light"
     },
     "output_type": "display_data"
    }
   ],
   "source": [
    "img, target, idx = trainset[2]\n",
    "print(\"This is you query image!\")\n",
    "print(f\"{idx_to_class[target]}: {target}\")\n",
    "image_helper.show_img(img)"
   ]
  },
  {
   "cell_type": "code",
   "execution_count": 14,
   "id": "7425122d",
   "metadata": {},
   "outputs": [
    {
     "name": "stdout",
     "output_type": "stream",
     "text": [
      "The retrieved indices: tensor([[6332, 5437, 3096, 6362, 4587, 6292, 6428, 6314, 3138, 3234]]) (size: (1, 10))\n",
      "Dress: 3\n"
     ]
    },
    {
     "data": {
      "image/png": "[encoded data removed]",
      "text/plain": [
       "<Figure size 432x288 with 1 Axes>"
      ]
     },
     "metadata": {
      "needs_background": "light"
     },
     "output_type": "display_data"
    }
   ],
   "source": [
    "x = img.unsqueeze(0)  # [1, channel_size, img_size, img_size]\n",
    "query = flatter(x)\n",
    "top_scores, indices = kNN_search(query, database)\n",
    "print(f\"The retrieved indices: {indices} (size: {tuple(indices.size())})\")\n",
    "\n",
    "topk = 0\n",
    "retrieved_img, retrieved_label, retrieved_idx = database.get_image_and_target(indices[0][topk])\n",
    "print(f\"{idx_to_class[retrieved_label]}: {retrieved_label}\")\n",
    "image_helper.show_img(retrieved_img)"
   ]
  },
  {
   "cell_type": "markdown",
   "id": "c79cbb41",
   "metadata": {},
   "source": [
    "### Run All Retrieval"
   ]
  },
  {
   "cell_type": "code",
   "execution_count": 15,
   "id": "54c75325",
   "metadata": {},
   "outputs": [],
   "source": [
    "@torch.no_grad()\n",
    "def run_all_retrieval(feature_extractor, valloader, database, k=10):\n",
    "    all_query_labels = []\n",
    "    all_retrieved_indices = []\n",
    "    all_retrieved_labels = []\n",
    "\n",
    "    feature_extractor.eval()\n",
    "    for xs, ys, idxs in tqdm(valloader):\n",
    "        query_features = feature_extractor(xs)\n",
    "        most_similar_indices = kNN_search(query_features, database, k=k)[1]\n",
    "\n",
    "        all_query_labels.extend(ys)\n",
    "        all_retrieved_indices.extend(most_similar_indices)\n",
    "        all_retrieved_labels.extend(database.targets[most_similar_indices])\n",
    "\n",
    "    return torch.stack(all_query_labels), torch.stack(all_retrieved_indices), torch.stack(all_retrieved_labels)"
   ]
  },
  {
   "cell_type": "code",
   "execution_count": 16,
   "id": "62737f4c",
   "metadata": {},
   "outputs": [
    {
     "data": {
      "application/vnd.jupyter.widget-view+json": {
       "model_id": "b5c62ec62ea54bbf822f11bae56e8ef3",
       "version_major": 2,
       "version_minor": 0
      },
      "text/plain": [
       "HBox(children=(FloatProgress(value=0.0, max=24.0), HTML(value='')))"
      ]
     },
     "metadata": {},
     "output_type": "display_data"
    },
    {
     "name": "stdout",
     "output_type": "stream",
     "text": [
      "\n"
     ]
    }
   ],
   "source": [
    "query_labels, retrieved_indices, retreived_labels = run_all_retrieval(flatter, valloader, database, k=10)"
   ]
  },
  {
   "cell_type": "markdown",
   "id": "a54e5f0d",
   "metadata": {},
   "source": [
    "## How to Evaluate An Image Retrieval System: Mean Average Precision \n",
    "\n",
    "<img src='./resources/map.png' width='75%'  align='left'/><br><br>"
   ]
  },
  {
   "cell_type": "code",
   "execution_count": 17,
   "id": "20fe186e",
   "metadata": {},
   "outputs": [],
   "source": [
    "def average_precision(label: int, retrieved_labels: np.array, eps=1e-12):\n",
    "    corrects = np.where(retrieved_labels == label, 1, 0)\n",
    "    cum_corrects = np.cumsum(corrects)\n",
    "    denominators = np.arange(1, len(corrects) + 1)\n",
    "    precisions = cum_corrects / denominators\n",
    "    average_prevision = np.sum(precisions * corrects) / (np.sum(corrects) + eps)\n",
    "    return average_prevision"
   ]
  },
  {
   "cell_type": "markdown",
   "id": "dfc9aa1b",
   "metadata": {},
   "source": [
    "### Practice 3: Implement Your Own MAP"
   ]
  },
  {
   "cell_type": "code",
   "execution_count": 18,
   "id": "f6ae7861",
   "metadata": {},
   "outputs": [],
   "source": [
    "def mean_average_precision(labels, retrieved_labels):\n",
    "    labels, retrieved_labels = labels.cpu().numpy(), retrieved_labels.cpu().numpy()\n",
    "    aps = [average_precision(label, retrieved_ls) for label, retrieved_ls in zip(labels, retrieved_labels)]\n",
    "    aps = np.array(aps)\n",
    "    return np.mean(aps)"
   ]
  },
  {
   "cell_type": "code",
   "execution_count": 19,
   "id": "17a8dd9b",
   "metadata": {},
   "outputs": [
    {
     "data": {
      "application/unittest.status+json": {
       "color": "yellow",
       "message": "",
       "previous": 0
      },
      "text/plain": []
     },
     "metadata": {},
     "output_type": "display_data"
    },
    {
     "data": {
      "application/unittest.status+json": {
       "color": "lightgreen",
       "message": ".\n----------------------------------------------------------------------\nRan 1 test in 0.001s\n\nOK\n",
       "previous": 0
      },
      "text/plain": [
       "Success"
      ]
     },
     "metadata": {},
     "output_type": "display_data"
    },
    {
     "name": "stdout",
     "output_type": "stream",
     "text": [
      ".\n",
      "----------------------------------------------------------------------\n",
      "Ran 1 test in 0.001s\n",
      "\n",
      "OK\n"
     ]
    },
    {
     "data": {
      "text/plain": [
       "<unittest.runner.TextTestResult run=1 errors=0 failures=0>"
      ]
     },
     "execution_count": 19,
     "metadata": {},
     "output_type": "execute_result"
    }
   ],
   "source": [
    "%%unittest_main\n",
    "from metrics import mean_average_precision as solution_map\n",
    "\n",
    "def generate_random_integer_tensor(rng, size, low=0, high=10):\n",
    "    return torch.tensor(rng.integers(low=low, high=high, size=size))\n",
    "\n",
    "class TestmAP(unittest.TestCase):\n",
    "    def setUp(self):\n",
    "        self.batch_size = 5\n",
    "        self.num_classes = 10\n",
    "        \n",
    "    def test_mAP(self):\n",
    "        random_seed = 0\n",
    "        rng = np.random.default_rng(random_seed)\n",
    "        k = 10\n",
    "        \n",
    "        labels = generate_random_integer_tensor(rng, size=self.batch_size, high=self.num_classes)\n",
    "        retrieved_lables = generate_random_integer_tensor(rng, size=(self.batch_size, k), high=self.num_classes)\n",
    "        mean_ap = mean_average_precision(labels, retreived_labels)\n",
    "        \n",
    "        self.assertEqual(mean_ap, solution_map(labels, retreived_labels))"
   ]
  },
  {
   "cell_type": "markdown",
   "id": "3f19d5bc",
   "metadata": {},
   "source": [
    "### Evaluate Simple Flatter"
   ]
  },
  {
   "cell_type": "code",
   "execution_count": 20,
   "id": "25baf097",
   "metadata": {},
   "outputs": [
    {
     "name": "stdout",
     "output_type": "stream",
     "text": [
      "Simple Flatter's mAP: 0.7145059694663739\n"
     ]
    }
   ],
   "source": [
    "s_map = mean_average_precision(query_labels, retreived_labels)\n",
    "print(f\"Simple Flatter's mAP: {s_map}\")"
   ]
  },
  {
   "cell_type": "markdown",
   "id": "3851ad23",
   "metadata": {},
   "source": [
    "### Improve Simple Flatter: Normalization"
   ]
  },
  {
   "cell_type": "code",
   "execution_count": 21,
   "id": "1724e505",
   "metadata": {},
   "outputs": [],
   "source": [
    "class NormalizedSimpleFlatter(nn.Module):\n",
    "    def forward(self, x):\n",
    "        # x: batch_size * num_channel * img_size * img_size\n",
    "        batch_size = x.size(0)\n",
    "        flatten = x.view(batch_size, -1)  # flatten's shape should be batch_size * (num_channel * img_size * img_size)\n",
    "        return F.normalize(flatten)\n",
    "    \n",
    "    def eval(self):\n",
    "        pass\n",
    "    \n",
    "normed_flatter = NormalizedSimpleFlatter()"
   ]
  },
  {
   "cell_type": "code",
   "execution_count": 22,
   "id": "71a0836d",
   "metadata": {},
   "outputs": [
    {
     "data": {
      "application/vnd.jupyter.widget-view+json": {
       "model_id": "953a67a9c2584b4eba654345ef072e99",
       "version_major": 2,
       "version_minor": 0
      },
      "text/plain": [
       "HBox(children=(FloatProgress(value=0.0, max=40.0), HTML(value='')))"
      ]
     },
     "metadata": {},
     "output_type": "display_data"
    },
    {
     "name": "stdout",
     "output_type": "stream",
     "text": [
      "\n"
     ]
    }
   ],
   "source": [
    "normed_database = Database(testloader, normed_flatter)"
   ]
  },
  {
   "cell_type": "code",
   "execution_count": 23,
   "id": "ef3cc1fa",
   "metadata": {},
   "outputs": [
    {
     "data": {
      "application/vnd.jupyter.widget-view+json": {
       "model_id": "f034307191004f54a71e360eb8b2905f",
       "version_major": 2,
       "version_minor": 0
      },
      "text/plain": [
       "HBox(children=(FloatProgress(value=0.0, max=24.0), HTML(value='')))"
      ]
     },
     "metadata": {},
     "output_type": "display_data"
    },
    {
     "name": "stdout",
     "output_type": "stream",
     "text": [
      "\n",
      "Normalized Flatter's mAP: 0.8339065517656489\n"
     ]
    }
   ],
   "source": [
    "query_labels2, retrieved_indices2, retreived_labels2 = run_all_retrieval(normed_flatter, valloader, normed_database, k=10)\n",
    "print(f\"Normalized Flatter's mAP: {mean_average_precision(query_labels2, retreived_labels2)}\")"
   ]
  },
  {
   "cell_type": "markdown",
   "id": "f02f04e6",
   "metadata": {},
   "source": [
    "## Deep Learning Based Image Retrieval"
   ]
  },
  {
   "cell_type": "code",
   "execution_count": 24,
   "id": "974dd15a",
   "metadata": {},
   "outputs": [],
   "source": [
    "from models import FeatureExtractor, Classifier\n",
    "from torch.optim import Adam\n",
    "\n",
    "feature_extractor = FeatureExtractor()\n",
    "classifier = Classifier()\n",
    "model = nn.Sequential(feature_extractor, classifier)\n",
    "\n",
    "optimizer = Adam(model.parameters(), lr=0.001)"
   ]
  },
  {
   "cell_type": "code",
   "execution_count": 25,
   "id": "f5efa215",
   "metadata": {},
   "outputs": [
    {
     "data": {
      "application/vnd.jupyter.widget-view+json": {
       "model_id": "6c426917a903417a8ffe2ccf9f35dcf7",
       "version_major": 2,
       "version_minor": 0
      },
      "text/plain": [
       "HBox(children=(FloatProgress(value=0.0, max=211.0), HTML(value='')))"
      ]
     },
     "metadata": {},
     "output_type": "display_data"
    },
    {
     "name": "stdout",
     "output_type": "stream",
     "text": [
      "\n"
     ]
    },
    {
     "data": {
      "application/vnd.jupyter.widget-view+json": {
       "model_id": "ccb3261b97be48c4b9e9832fa2ce9c95",
       "version_major": 2,
       "version_minor": 0
      },
      "text/plain": [
       "HBox(children=(FloatProgress(value=0.0, max=24.0), HTML(value='')))"
      ]
     },
     "metadata": {},
     "output_type": "display_data"
    },
    {
     "name": "stdout",
     "output_type": "stream",
     "text": [
      "\n",
      "Epoch: 0, val_loss: 1.175, Accuracy: 79.267\n",
      "\n"
     ]
    },
    {
     "data": {
      "application/vnd.jupyter.widget-view+json": {
       "model_id": "9d803f320f5c43128d1b1e7a9eda83c7",
       "version_major": 2,
       "version_minor": 0
      },
      "text/plain": [
       "HBox(children=(FloatProgress(value=0.0, max=211.0), HTML(value='')))"
      ]
     },
     "metadata": {},
     "output_type": "display_data"
    },
    {
     "name": "stdout",
     "output_type": "stream",
     "text": [
      "\n"
     ]
    },
    {
     "data": {
      "application/vnd.jupyter.widget-view+json": {
       "model_id": "57f42bb5e6bb464ab57cd99dfa12686d",
       "version_major": 2,
       "version_minor": 0
      },
      "text/plain": [
       "HBox(children=(FloatProgress(value=0.0, max=24.0), HTML(value='')))"
      ]
     },
     "metadata": {},
     "output_type": "display_data"
    },
    {
     "name": "stdout",
     "output_type": "stream",
     "text": [
      "\n",
      "Epoch: 1, val_loss: 0.677, Accuracy: 85.900\n",
      "\n"
     ]
    },
    {
     "data": {
      "application/vnd.jupyter.widget-view+json": {
       "model_id": "36899e5a8bab4f3d9dfbf2bb2a110fcd",
       "version_major": 2,
       "version_minor": 0
      },
      "text/plain": [
       "HBox(children=(FloatProgress(value=0.0, max=211.0), HTML(value='')))"
      ]
     },
     "metadata": {},
     "output_type": "display_data"
    },
    {
     "name": "stdout",
     "output_type": "stream",
     "text": [
      "\n"
     ]
    },
    {
     "data": {
      "application/vnd.jupyter.widget-view+json": {
       "model_id": "38af98f5a4f74d25aa81a6c94cbdf505",
       "version_major": 2,
       "version_minor": 0
      },
      "text/plain": [
       "HBox(children=(FloatProgress(value=0.0, max=24.0), HTML(value='')))"
      ]
     },
     "metadata": {},
     "output_type": "display_data"
    },
    {
     "name": "stdout",
     "output_type": "stream",
     "text": [
      "\n",
      "Epoch: 2, val_loss: 0.478, Accuracy: 88.600\n",
      "\n"
     ]
    },
    {
     "data": {
      "application/vnd.jupyter.widget-view+json": {
       "model_id": "42414972ea03426fa58f8f366723a8fa",
       "version_major": 2,
       "version_minor": 0
      },
      "text/plain": [
       "HBox(children=(FloatProgress(value=0.0, max=211.0), HTML(value='')))"
      ]
     },
     "metadata": {},
     "output_type": "display_data"
    },
    {
     "name": "stdout",
     "output_type": "stream",
     "text": [
      "\n"
     ]
    },
    {
     "data": {
      "application/vnd.jupyter.widget-view+json": {
       "model_id": "89841656c3984c31bcd9ed4e8363326b",
       "version_major": 2,
       "version_minor": 0
      },
      "text/plain": [
       "HBox(children=(FloatProgress(value=0.0, max=24.0), HTML(value='')))"
      ]
     },
     "metadata": {},
     "output_type": "display_data"
    },
    {
     "name": "stdout",
     "output_type": "stream",
     "text": [
      "\n",
      "Epoch: 3, val_loss: 0.387, Accuracy: 89.583\n",
      "\n"
     ]
    },
    {
     "data": {
      "application/vnd.jupyter.widget-view+json": {
       "model_id": "d906e10421824f2d86f77dc38e109c22",
       "version_major": 2,
       "version_minor": 0
      },
      "text/plain": [
       "HBox(children=(FloatProgress(value=0.0, max=211.0), HTML(value='')))"
      ]
     },
     "metadata": {},
     "output_type": "display_data"
    },
    {
     "name": "stdout",
     "output_type": "stream",
     "text": [
      "\n"
     ]
    },
    {
     "data": {
      "application/vnd.jupyter.widget-view+json": {
       "model_id": "37a7ccec3b4d4083bb3509d776824d88",
       "version_major": 2,
       "version_minor": 0
      },
      "text/plain": [
       "HBox(children=(FloatProgress(value=0.0, max=24.0), HTML(value='')))"
      ]
     },
     "metadata": {},
     "output_type": "display_data"
    },
    {
     "name": "stdout",
     "output_type": "stream",
     "text": [
      "\n",
      "Epoch: 4, val_loss: 0.317, Accuracy: 91.017\n",
      "\n"
     ]
    },
    {
     "data": {
      "application/vnd.jupyter.widget-view+json": {
       "model_id": "3681e38e96124dd48ae6dd8a29279347",
       "version_major": 2,
       "version_minor": 0
      },
      "text/plain": [
       "HBox(children=(FloatProgress(value=0.0, max=211.0), HTML(value='')))"
      ]
     },
     "metadata": {},
     "output_type": "display_data"
    },
    {
     "name": "stdout",
     "output_type": "stream",
     "text": [
      "\n"
     ]
    },
    {
     "data": {
      "application/vnd.jupyter.widget-view+json": {
       "model_id": "c0fb7d516157413eae07d6f0444fff21",
       "version_major": 2,
       "version_minor": 0
      },
      "text/plain": [
       "HBox(children=(FloatProgress(value=0.0, max=24.0), HTML(value='')))"
      ]
     },
     "metadata": {},
     "output_type": "display_data"
    },
    {
     "name": "stdout",
     "output_type": "stream",
     "text": [
      "\n",
      "Epoch: 5, val_loss: 0.305, Accuracy: 90.967\n",
      "\n"
     ]
    },
    {
     "data": {
      "application/vnd.jupyter.widget-view+json": {
       "model_id": "716e6fac5cbe49fca40e3b36cb820992",
       "version_major": 2,
       "version_minor": 0
      },
      "text/plain": [
       "HBox(children=(FloatProgress(value=0.0, max=211.0), HTML(value='')))"
      ]
     },
     "metadata": {},
     "output_type": "display_data"
    },
    {
     "name": "stdout",
     "output_type": "stream",
     "text": [
      "\n"
     ]
    },
    {
     "data": {
      "application/vnd.jupyter.widget-view+json": {
       "model_id": "d9823117ea8240deb09e7a75cec87cb1",
       "version_major": 2,
       "version_minor": 0
      },
      "text/plain": [
       "HBox(children=(FloatProgress(value=0.0, max=24.0), HTML(value='')))"
      ]
     },
     "metadata": {},
     "output_type": "display_data"
    },
    {
     "name": "stdout",
     "output_type": "stream",
     "text": [
      "\n",
      "Epoch: 6, val_loss: 0.292, Accuracy: 90.333\n",
      "\n"
     ]
    },
    {
     "data": {
      "application/vnd.jupyter.widget-view+json": {
       "model_id": "b44bdedffb7240398c92b0d70bca53da",
       "version_major": 2,
       "version_minor": 0
      },
      "text/plain": [
       "HBox(children=(FloatProgress(value=0.0, max=211.0), HTML(value='')))"
      ]
     },
     "metadata": {},
     "output_type": "display_data"
    },
    {
     "name": "stdout",
     "output_type": "stream",
     "text": [
      "\n"
     ]
    },
    {
     "data": {
      "application/vnd.jupyter.widget-view+json": {
       "model_id": "0d5a1664142f4256a73f95e9477b8d31",
       "version_major": 2,
       "version_minor": 0
      },
      "text/plain": [
       "HBox(children=(FloatProgress(value=0.0, max=24.0), HTML(value='')))"
      ]
     },
     "metadata": {},
     "output_type": "display_data"
    },
    {
     "name": "stdout",
     "output_type": "stream",
     "text": [
      "\n",
      "Epoch: 7, val_loss: 0.273, Accuracy: 90.950\n",
      "\n"
     ]
    },
    {
     "data": {
      "application/vnd.jupyter.widget-view+json": {
       "model_id": "7183c3b3f1474ac39ece92e4e3e1e0e9",
       "version_major": 2,
       "version_minor": 0
      },
      "text/plain": [
       "HBox(children=(FloatProgress(value=0.0, max=211.0), HTML(value='')))"
      ]
     },
     "metadata": {},
     "output_type": "display_data"
    },
    {
     "name": "stdout",
     "output_type": "stream",
     "text": [
      "\n"
     ]
    },
    {
     "data": {
      "application/vnd.jupyter.widget-view+json": {
       "model_id": "4bfde474e36548bf8f4faa77dc6e3524",
       "version_major": 2,
       "version_minor": 0
      },
      "text/plain": [
       "HBox(children=(FloatProgress(value=0.0, max=24.0), HTML(value='')))"
      ]
     },
     "metadata": {},
     "output_type": "display_data"
    },
    {
     "name": "stdout",
     "output_type": "stream",
     "text": [
      "\n",
      "Epoch: 8, val_loss: 0.247, Accuracy: 91.967\n",
      "\n"
     ]
    },
    {
     "data": {
      "application/vnd.jupyter.widget-view+json": {
       "model_id": "a8180126504547ebbf26451620a36bb4",
       "version_major": 2,
       "version_minor": 0
      },
      "text/plain": [
       "HBox(children=(FloatProgress(value=0.0, max=211.0), HTML(value='')))"
      ]
     },
     "metadata": {},
     "output_type": "display_data"
    },
    {
     "name": "stdout",
     "output_type": "stream",
     "text": [
      "\n"
     ]
    },
    {
     "data": {
      "application/vnd.jupyter.widget-view+json": {
       "model_id": "a19b1b21fe474f75ba3dada7b565b3f7",
       "version_major": 2,
       "version_minor": 0
      },
      "text/plain": [
       "HBox(children=(FloatProgress(value=0.0, max=24.0), HTML(value='')))"
      ]
     },
     "metadata": {},
     "output_type": "display_data"
    },
    {
     "name": "stdout",
     "output_type": "stream",
     "text": [
      "\n",
      "Epoch: 9, val_loss: 0.243, Accuracy: 92.167\n",
      "\n"
     ]
    }
   ],
   "source": [
    "from trainers import train\n",
    "\n",
    "epoch = 10\n",
    "model = train(model, optimizer, trainloader, valloader, epoch)"
   ]
  },
  {
   "cell_type": "code",
   "execution_count": 26,
   "id": "2cc186e7",
   "metadata": {},
   "outputs": [
    {
     "data": {
      "application/vnd.jupyter.widget-view+json": {
       "model_id": "28a417b213b94667b92b7499a1e9a7a3",
       "version_major": 2,
       "version_minor": 0
      },
      "text/plain": [
       "HBox(children=(FloatProgress(value=0.0, max=40.0), HTML(value='')))"
      ]
     },
     "metadata": {},
     "output_type": "display_data"
    },
    {
     "name": "stdout",
     "output_type": "stream",
     "text": [
      "\n"
     ]
    },
    {
     "data": {
      "application/vnd.jupyter.widget-view+json": {
       "model_id": "c54db8d52ce841a1a72091730ef0e5c2",
       "version_major": 2,
       "version_minor": 0
      },
      "text/plain": [
       "HBox(children=(FloatProgress(value=0.0, max=24.0), HTML(value='')))"
      ]
     },
     "metadata": {},
     "output_type": "display_data"
    },
    {
     "name": "stdout",
     "output_type": "stream",
     "text": [
      "\n",
      "Deep Feature Extractor's mAP: 0.9158754615718688\n"
     ]
    }
   ],
   "source": [
    "deep_database = Database(testloader, feature_extractor)\n",
    "\n",
    "query_labels3, retrieved_indices3, retreived_labels3 = run_all_retrieval(feature_extractor, valloader, deep_database, k=10)\n",
    "deep_map = mean_average_precision(query_labels3, retreived_labels3)\n",
    "print(f\"Deep Feature Extractor's mAP: {deep_map}\")"
   ]
  },
  {
   "cell_type": "markdown",
   "id": "cec6f48b",
   "metadata": {},
   "source": [
    "## Compare the Image Retrieval Systems"
   ]
  },
  {
   "cell_type": "code",
   "execution_count": 27,
   "id": "62eeca09",
   "metadata": {},
   "outputs": [
    {
     "name": "stdout",
     "output_type": "stream",
     "text": [
      "Flatters database size: 10240000\n",
      "Deep database size: 1280000\n",
      "\n",
      "The deep learning based system is 8x smaller,\n",
      "while it's mAP is 28.18% better even on this simple dataset.\n"
     ]
    }
   ],
   "source": [
    "print(f'Flatters database size: {database.extracted_features.numel()}')\n",
    "print(f'Deep database size: {deep_database.extracted_features.numel()}')\n",
    "print()\n",
    "print(f'The deep learning based system is {int(database.extracted_features.numel() / deep_database.extracted_features.numel())}x smaller,')\n",
    "print(\"while it's mAP is {:.2f}% better even on this simple dataset.\".format((deep_map - s_map) / s_map * 100))"
   ]
  },
  {
   "cell_type": "markdown",
   "id": "34ff814a",
   "metadata": {},
   "source": [
    "## Rotated Dataset?"
   ]
  },
  {
   "cell_type": "code",
   "execution_count": 32,
   "id": "a2d47c9a",
   "metadata": {},
   "outputs": [],
   "source": [
    "from rotations import RotationPredDataset\n",
    "\n",
    "rot_trainset = RotationPredDataset(trainset)\n",
    "rot_valset = RotationPredDataset(valset)"
   ]
  },
  {
   "cell_type": "code",
   "execution_count": 33,
   "id": "69ab7dcc",
   "metadata": {
    "scrolled": true
   },
   "outputs": [
    {
     "data": {
      "image/png": "[encoded data removed]",
      "text/plain": [
       "<Figure size 432x288 with 1 Axes>"
      ]
     },
     "metadata": {
      "needs_background": "light"
     },
     "output_type": "display_data"
    }
   ],
   "source": [
    "img, rot_label, idx = rot_trainset[124]\n",
    "image_helper.show_img(img)"
   ]
  },
  {
   "cell_type": "markdown",
   "id": "c42870f1",
   "metadata": {},
   "source": [
    "### Practice (If time allows)\n",
    "\n",
    "Use the trained model above (`feature_extractor`) to run retrieval on `rotated_testset`.\n",
    "\n",
    "**Steps to implement**:\n",
    "1. Create `DataLoader`s with `rot_trainloader` and `rot_valloader`\n",
    "2. Create `FeatureExtractor` and `Classifier` (the number of classes is 4)\n",
    "3. Train the model.\n",
    "2. Create a `Database`.\n",
    "3. Run retrieval using the `feature_extractor`, `valloader`, and Database created in step 2 (use k=10).\n",
    "4. Calculate mAP score of step 3.\n",
    "5. Print the mAP score!"
   ]
  },
  {
   "cell_type": "code",
   "execution_count": 34,
   "id": "338aecc7",
   "metadata": {},
   "outputs": [],
   "source": [
    "rot_trainloader = torch.utils.data.DataLoader(rot_trainset, batch_size=batch_size, shuffle=True)\n",
    "rot_valloader = torch.utils.data.DataLoader(rot_valset, batch_size=batch_size, shuffle=False)\n",
    "\n",
    "rot_feature_extractor = FeatureExtractor()\n",
    "rot_classifier = Classifier(num_classes=4)\n",
    "rot_model = nn.Sequential(rot_feature_extractor, rot_classifier)"
   ]
  },
  {
   "cell_type": "code",
   "execution_count": 35,
   "id": "45e3c552",
   "metadata": {
    "scrolled": true
   },
   "outputs": [
    {
     "data": {
      "application/vnd.jupyter.widget-view+json": {
       "model_id": "9ecd9d73698843e19e375929a903c85f",
       "version_major": 2,
       "version_minor": 0
      },
      "text/plain": [
       "HBox(children=(FloatProgress(value=0.0, max=211.0), HTML(value='')))"
      ]
     },
     "metadata": {},
     "output_type": "display_data"
    },
    {
     "name": "stdout",
     "output_type": "stream",
     "text": [
      "\n"
     ]
    },
    {
     "data": {
      "application/vnd.jupyter.widget-view+json": {
       "model_id": "d9b94fd203af432d877a0c6660472e42",
       "version_major": 2,
       "version_minor": 0
      },
      "text/plain": [
       "HBox(children=(FloatProgress(value=0.0, max=24.0), HTML(value='')))"
      ]
     },
     "metadata": {},
     "output_type": "display_data"
    },
    {
     "name": "stdout",
     "output_type": "stream",
     "text": [
      "\n",
      "Epoch: 0, val_loss: 0.447, Accuracy: 92.150\n",
      "\n"
     ]
    },
    {
     "data": {
      "application/vnd.jupyter.widget-view+json": {
       "model_id": "9696573ab351427d8f46a00cafa54e3c",
       "version_major": 2,
       "version_minor": 0
      },
      "text/plain": [
       "HBox(children=(FloatProgress(value=0.0, max=211.0), HTML(value='')))"
      ]
     },
     "metadata": {},
     "output_type": "display_data"
    },
    {
     "name": "stdout",
     "output_type": "stream",
     "text": [
      "\n"
     ]
    },
    {
     "data": {
      "application/vnd.jupyter.widget-view+json": {
       "model_id": "e94c22a7688349ee84b97ea1ed04db1e",
       "version_major": 2,
       "version_minor": 0
      },
      "text/plain": [
       "HBox(children=(FloatProgress(value=0.0, max=24.0), HTML(value='')))"
      ]
     },
     "metadata": {},
     "output_type": "display_data"
    },
    {
     "name": "stdout",
     "output_type": "stream",
     "text": [
      "\n",
      "Epoch: 1, val_loss: 0.252, Accuracy: 93.667\n",
      "\n"
     ]
    },
    {
     "data": {
      "application/vnd.jupyter.widget-view+json": {
       "model_id": "35400128e3544353acc936147657093f",
       "version_major": 2,
       "version_minor": 0
      },
      "text/plain": [
       "HBox(children=(FloatProgress(value=0.0, max=211.0), HTML(value='')))"
      ]
     },
     "metadata": {},
     "output_type": "display_data"
    },
    {
     "name": "stdout",
     "output_type": "stream",
     "text": [
      "\n"
     ]
    },
    {
     "data": {
      "application/vnd.jupyter.widget-view+json": {
       "model_id": "4af9dac3be0844c68a97c27d9d5cee72",
       "version_major": 2,
       "version_minor": 0
      },
      "text/plain": [
       "HBox(children=(FloatProgress(value=0.0, max=24.0), HTML(value='')))"
      ]
     },
     "metadata": {},
     "output_type": "display_data"
    },
    {
     "name": "stdout",
     "output_type": "stream",
     "text": [
      "\n",
      "Epoch: 2, val_loss: 0.153, Accuracy: 96.150\n",
      "\n"
     ]
    },
    {
     "data": {
      "application/vnd.jupyter.widget-view+json": {
       "model_id": "817014a398154f22b5fc4c7dd623de45",
       "version_major": 2,
       "version_minor": 0
      },
      "text/plain": [
       "HBox(children=(FloatProgress(value=0.0, max=211.0), HTML(value='')))"
      ]
     },
     "metadata": {},
     "output_type": "display_data"
    },
    {
     "name": "stdout",
     "output_type": "stream",
     "text": [
      "\n"
     ]
    },
    {
     "data": {
      "application/vnd.jupyter.widget-view+json": {
       "model_id": "e06048d7c2a34a04a5cd7dc8f7cbedb2",
       "version_major": 2,
       "version_minor": 0
      },
      "text/plain": [
       "HBox(children=(FloatProgress(value=0.0, max=24.0), HTML(value='')))"
      ]
     },
     "metadata": {},
     "output_type": "display_data"
    },
    {
     "name": "stdout",
     "output_type": "stream",
     "text": [
      "\n",
      "Epoch: 3, val_loss: 0.123, Accuracy: 96.733\n",
      "\n"
     ]
    },
    {
     "data": {
      "application/vnd.jupyter.widget-view+json": {
       "model_id": "6b6e0d396da543d1af5701091c5841e3",
       "version_major": 2,
       "version_minor": 0
      },
      "text/plain": [
       "HBox(children=(FloatProgress(value=0.0, max=211.0), HTML(value='')))"
      ]
     },
     "metadata": {},
     "output_type": "display_data"
    },
    {
     "name": "stdout",
     "output_type": "stream",
     "text": [
      "\n"
     ]
    },
    {
     "data": {
      "application/vnd.jupyter.widget-view+json": {
       "model_id": "d91ab9b278c14ba4866527c779afd61a",
       "version_major": 2,
       "version_minor": 0
      },
      "text/plain": [
       "HBox(children=(FloatProgress(value=0.0, max=24.0), HTML(value='')))"
      ]
     },
     "metadata": {},
     "output_type": "display_data"
    },
    {
     "name": "stdout",
     "output_type": "stream",
     "text": [
      "\n",
      "Epoch: 4, val_loss: 0.108, Accuracy: 97.033\n",
      "\n"
     ]
    },
    {
     "data": {
      "application/vnd.jupyter.widget-view+json": {
       "model_id": "8103aeafa8254c2bb06cfa07bcacc321",
       "version_major": 2,
       "version_minor": 0
      },
      "text/plain": [
       "HBox(children=(FloatProgress(value=0.0, max=211.0), HTML(value='')))"
      ]
     },
     "metadata": {},
     "output_type": "display_data"
    },
    {
     "name": "stdout",
     "output_type": "stream",
     "text": [
      "\n"
     ]
    },
    {
     "data": {
      "application/vnd.jupyter.widget-view+json": {
       "model_id": "134bf93b459941a9af812dc6fd878927",
       "version_major": 2,
       "version_minor": 0
      },
      "text/plain": [
       "HBox(children=(FloatProgress(value=0.0, max=24.0), HTML(value='')))"
      ]
     },
     "metadata": {},
     "output_type": "display_data"
    },
    {
     "name": "stdout",
     "output_type": "stream",
     "text": [
      "\n",
      "Epoch: 5, val_loss: 0.094, Accuracy: 97.267\n",
      "\n"
     ]
    },
    {
     "data": {
      "application/vnd.jupyter.widget-view+json": {
       "model_id": "e1f3fd186ec0460cbae769c1bb7afafe",
       "version_major": 2,
       "version_minor": 0
      },
      "text/plain": [
       "HBox(children=(FloatProgress(value=0.0, max=211.0), HTML(value='')))"
      ]
     },
     "metadata": {},
     "output_type": "display_data"
    },
    {
     "name": "stdout",
     "output_type": "stream",
     "text": [
      "\n"
     ]
    },
    {
     "data": {
      "application/vnd.jupyter.widget-view+json": {
       "model_id": "f739603ded5b4fe8b5722d2d57917392",
       "version_major": 2,
       "version_minor": 0
      },
      "text/plain": [
       "HBox(children=(FloatProgress(value=0.0, max=24.0), HTML(value='')))"
      ]
     },
     "metadata": {},
     "output_type": "display_data"
    },
    {
     "name": "stdout",
     "output_type": "stream",
     "text": [
      "\n",
      "Epoch: 6, val_loss: 0.078, Accuracy: 97.683\n",
      "\n"
     ]
    },
    {
     "data": {
      "application/vnd.jupyter.widget-view+json": {
       "model_id": "1d5532c88d434721ab9712bacc294b7c",
       "version_major": 2,
       "version_minor": 0
      },
      "text/plain": [
       "HBox(children=(FloatProgress(value=0.0, max=211.0), HTML(value='')))"
      ]
     },
     "metadata": {},
     "output_type": "display_data"
    },
    {
     "name": "stdout",
     "output_type": "stream",
     "text": [
      "\n"
     ]
    },
    {
     "data": {
      "application/vnd.jupyter.widget-view+json": {
       "model_id": "ef0e32eff50e4e5bbcd00ad3ad25b6b7",
       "version_major": 2,
       "version_minor": 0
      },
      "text/plain": [
       "HBox(children=(FloatProgress(value=0.0, max=24.0), HTML(value='')))"
      ]
     },
     "metadata": {},
     "output_type": "display_data"
    },
    {
     "name": "stdout",
     "output_type": "stream",
     "text": [
      "\n",
      "Epoch: 7, val_loss: 0.084, Accuracy: 97.717\n",
      "\n"
     ]
    },
    {
     "data": {
      "application/vnd.jupyter.widget-view+json": {
       "model_id": "19f4fbb0bd20474c886189b766040613",
       "version_major": 2,
       "version_minor": 0
      },
      "text/plain": [
       "HBox(children=(FloatProgress(value=0.0, max=211.0), HTML(value='')))"
      ]
     },
     "metadata": {},
     "output_type": "display_data"
    },
    {
     "name": "stdout",
     "output_type": "stream",
     "text": [
      "\n"
     ]
    },
    {
     "data": {
      "application/vnd.jupyter.widget-view+json": {
       "model_id": "521daafe77004a338ab3a2c41da92db5",
       "version_major": 2,
       "version_minor": 0
      },
      "text/plain": [
       "HBox(children=(FloatProgress(value=0.0, max=24.0), HTML(value='')))"
      ]
     },
     "metadata": {},
     "output_type": "display_data"
    },
    {
     "name": "stdout",
     "output_type": "stream",
     "text": [
      "\n",
      "Epoch: 8, val_loss: 0.077, Accuracy: 97.633\n",
      "\n"
     ]
    },
    {
     "data": {
      "application/vnd.jupyter.widget-view+json": {
       "model_id": "853e28b58c1f4ac6ad78110eacb25bc0",
       "version_major": 2,
       "version_minor": 0
      },
      "text/plain": [
       "HBox(children=(FloatProgress(value=0.0, max=211.0), HTML(value='')))"
      ]
     },
     "metadata": {},
     "output_type": "display_data"
    },
    {
     "name": "stdout",
     "output_type": "stream",
     "text": [
      "\n"
     ]
    },
    {
     "data": {
      "application/vnd.jupyter.widget-view+json": {
       "model_id": "eb2e54ed170b4b43beef9349c9738a46",
       "version_major": 2,
       "version_minor": 0
      },
      "text/plain": [
       "HBox(children=(FloatProgress(value=0.0, max=24.0), HTML(value='')))"
      ]
     },
     "metadata": {},
     "output_type": "display_data"
    },
    {
     "name": "stdout",
     "output_type": "stream",
     "text": [
      "\n",
      "Epoch: 9, val_loss: 0.064, Accuracy: 98.150\n",
      "\n"
     ]
    },
    {
     "data": {
      "application/vnd.jupyter.widget-view+json": {
       "model_id": "8e35bdd023fd435aa6e71f2cad4fa65f",
       "version_major": 2,
       "version_minor": 0
      },
      "text/plain": [
       "HBox(children=(FloatProgress(value=0.0, max=40.0), HTML(value='')))"
      ]
     },
     "metadata": {},
     "output_type": "display_data"
    },
    {
     "name": "stdout",
     "output_type": "stream",
     "text": [
      "\n"
     ]
    }
   ],
   "source": [
    "rot_optimizer = Adam(rot_model.parameters(), lr=0.001)\n",
    "rot_model = train(rot_model, rot_optimizer, rot_trainloader, rot_valloader, epoch=10)\n",
    "\n",
    "rot_database = Database(testloader, rot_feature_extractor)"
   ]
  },
  {
   "cell_type": "code",
   "execution_count": 36,
   "id": "29617214",
   "metadata": {},
   "outputs": [
    {
     "data": {
      "application/vnd.jupyter.widget-view+json": {
       "model_id": "36e389131ca2481a82c7c25f36d76418",
       "version_major": 2,
       "version_minor": 0
      },
      "text/plain": [
       "HBox(children=(FloatProgress(value=0.0, max=24.0), HTML(value='')))"
      ]
     },
     "metadata": {},
     "output_type": "display_data"
    },
    {
     "name": "stdout",
     "output_type": "stream",
     "text": [
      "\n"
     ]
    },
    {
     "data": {
      "text/plain": [
       "0.7737417039870204"
      ]
     },
     "execution_count": 36,
     "metadata": {},
     "output_type": "execute_result"
    }
   ],
   "source": [
    "query_labels4, retrieved_indices4, retreived_labels4 = run_all_retrieval(rot_feature_extractor, valloader, rot_database, k=10)\n",
    "mean_average_precision(query_labels4, retreived_labels4)"
   ]
  },
  {
   "cell_type": "markdown",
   "id": "b21b4896",
   "metadata": {},
   "source": [
    "### How are the results? "
   ]
  },
  {
   "cell_type": "markdown",
   "id": "ce3c7575",
   "metadata": {},
   "source": [
    "## Self-supervision: Pretext Tasks\n",
    "\n",
    "### Rotation Prediction\n",
    "![rotation](resources/rotation.png)\n",
    "\n",
    "### Colorization\n",
    "![colorization](resources/colorization.png)\n",
    "\n",
    "### Jigsaw\n",
    "![jigsaw](resources/jigsaw.png)"
   ]
  },
  {
   "cell_type": "code",
   "execution_count": null,
   "id": "5f767245",
   "metadata": {},
   "outputs": [],
   "source": []
  }
 ],
 "metadata": {
  "kernelspec": {
   "display_name": "Python 3",
   "language": "python",
   "name": "python3"
  },
  "language_info": {
   "codemirror_mode": {
    "name": "ipython",
    "version": 3
   },
   "file_extension": ".py",
   "mimetype": "text/x-python",
   "name": "python",
   "nbconvert_exporter": "python",
   "pygments_lexer": "ipython3",
   "version": "3.7.7"
  }
 },
 "nbformat": 4,
 "nbformat_minor": 5
}
